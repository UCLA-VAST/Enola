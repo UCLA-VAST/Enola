{
 "cells": [
  {
   "cell_type": "markdown",
   "metadata": {},
   "source": [
    "### Example: Using Enola for Dynamically Field-Programmable Qubit Arrays Based on Neutral Atoms\n",
    "\n",
    "This notebook demonstrates how to use our compiler, Enola, to compile and execute quantum programs on a single-zone neutral atom architecture. The architecture is based on dynamically field-programmable qubit arrays, where qubits can be reconfigured during circuit execution.\n",
    "\n",
    "***Prerequisite***\n",
    "Download Enola from [Github](https://github.com/UCLA-VAST/Enola)"
   ]
  },
  {
   "cell_type": "code",
   "execution_count": null,
   "metadata": {},
   "outputs": [],
   "source": [
    "!git clone https://github.com/UCLA-VAST/Enola.git\n",
    "!pip3 install networkx\n",
    "!pip3 install matplotlib\n",
    "!pip3 install 'qiskit>=1'"
   ]
  },
  {
   "cell_type": "markdown",
   "metadata": {},
   "source": [
    "***Import***"
   ]
  },
  {
   "cell_type": "code",
   "execution_count": 1,
   "metadata": {},
   "outputs": [],
   "source": [
    "from enola.enola import Enola\n",
    "import qiskit # for generic circuits with dependency. Convert the gates in circuits into hardware-supported gate set"
   ]
  },
  {
   "cell_type": "markdown",
   "metadata": {},
   "source": [
    "### Compile a Circuit\n",
    "\n",
    "***Step 1: Compiler intialization***\n",
    "\n",
    "- Default compiler: Use edge coloring algorithm for commutable gate scheduling\n",
    "    - Placement optimization level 2: simulated annealing with dynamic placement\n",
    "    - Routing optimization level 1: maximal independent set with sorting heuristic for routing strategy, no restriction for vectex number in solving MIS.\n",
    "    - For animation code generation, set `full_code=True`\n",
    "\n",
    "- Scalable compiler: \n",
    "    - Placement optimization level 0: Use trivial layout, return to initial mapping after each Rydberg stage \n",
    "    - Routing optimization level 0: using maximal independent set for routing  and limit the number of vertices to 1000 in solving MIS"
   ]
  },
  {
   "cell_type": "code",
   "execution_count": 2,
   "metadata": {},
   "outputs": [],
   "source": [
    "commutable_circuit_name = 'qaoa'\n",
    "default_compiler = Enola(\n",
    "        name=commutable_circuit_name,\n",
    "        dir='./results/',\n",
    "        full_code=True)\n",
    "\n",
    "scalable_compiler = Enola(\n",
    "        name=commutable_circuit_name,\n",
    "        dir='./results/',\n",
    "        placement_opt=0,\n",
    "        routing_opt=0,\n",
    "        full_code=True)"
   ]
  },
  {
   "cell_type": "markdown",
   "metadata": {},
   "source": [
    "***Step 2: Set Architecture***\n",
    "\n",
    "Set architecture dimension by the method `setArchitecture(bounds: Sequence[int])`, where `bounds = [slm_num_row, slm_num_col, aod_num_row, aod_num_col]` specifies the number of columns and rows in the SLM and AOD arrays. Note that 1. the SLM site number, i.e., `slm_num_row`*`slm_num_col`, should be greater than or equal to the number of program qubits in the circuit, and 2. the size of AOD array should not be smaller than the size of SLM arrays."
   ]
  },
  {
   "cell_type": "code",
   "execution_count": 3,
   "metadata": {},
   "outputs": [],
   "source": [
    "# an example of setting an architecture with an SLM of 10 columns and rows, and an AOD with 10 columns and rows\n",
    "default_compiler.setArchitecture([10, 10, 10, 10])"
   ]
  },
  {
   "cell_type": "markdown",
   "metadata": {},
   "source": [
    "***Step 3: Set Program***\n",
    "\n",
    "Set quantum program by the method `setProgram(program: Sequence[Sequence[int]])`, where `program` is a list of two-qubit gates in the circuit."
   ]
  },
  {
   "cell_type": "code",
   "execution_count": 4,
   "metadata": {},
   "outputs": [],
   "source": [
    "# an example of setting the QAOA circuit\n",
    "# circuits with all commutable gates\n",
    "graph_edge_list = [[0, 1], [0, 2], [0, 4], [1, 3], [1, 5], [2, 4], [2, 3], \n",
    "                   [3, 5], [4, 5]]\n",
    "\n",
    "default_compiler.setProgram(graph_edge_list)"
   ]
  },
  {
   "cell_type": "markdown",
   "metadata": {},
   "source": [
    "***Step 4: Compile the Circuit***\n",
    "\n",
    "Compile the circuit by method `solve()`. \n",
    "- `save_file` specifies whether to save 1. the output program list and 2. the detailed code (if `full_code=True` when initializing the compiler) for animation generation to json files in the folder `results/code`, and 3. the runtime analysis to a json file to the folder `results/time`."
   ]
  },
  {
   "cell_type": "code",
   "execution_count": 5,
   "metadata": {},
   "outputs": [
    {
     "name": "stdout",
     "output_type": "stream",
     "text": [
      "[INFO] Enola: Start Solving\n",
      "[INFO] Enola: Run scheduling\n",
      "[INFO] Enola: Time for scheduling: 0.00031113624572753906s\n",
      "[INFO] Enola: Start SA-based placement\n",
      "[INFO] Enola: SA-Based Placer: Iter 0, cost: 8.900000\n",
      "[INFO] Enola: Time for placement: 18.168779134750366s\n",
      "[INFO] Enola: Finding a mapping for Rydberg stage 2/4\n",
      "[INFO] Enola: Start SA-based placement\n",
      "[INFO] Enola: SA-Based Placer: Iter 0, cost: 8.900000\n",
      "[INFO] Enola: Solve for Rydberg stage 2/4.\n",
      "[INFO] Enola: Finding a mapping for Rydberg stage 3/4\n",
      "[INFO] Enola: Start SA-based placement\n",
      "[INFO] Enola: SA-Based Placer: Iter 0, cost: 7.800000\n",
      "[INFO] Enola: Solve for Rydberg stage 3/4.\n",
      "[INFO] Enola: Finding a mapping for Rydberg stage 4/4\n",
      "[INFO] Enola: Start SA-based placement\n",
      "[INFO] Enola: SA-Based Placer: Iter 0, cost: 6.500000\n",
      "[INFO] Enola: Solve for Rydberg stage 4/4.\n",
      "[INFO] Enola: Solve for Rydberg stage 5/4.\n",
      "[INFO] Enola: Time for routing: 0.0006000995635986328s\n",
      "[INFO] Enola: Toal Time: 66.8243899345398s\n"
     ]
    }
   ],
   "source": [
    "program_list_qaoa = default_compiler.solve(save_file=True)"
   ]
  },
  {
   "cell_type": "markdown",
   "metadata": {},
   "source": [
    "#### The other example for compiling a generic circuit\n",
    "\n",
    "Initialize a compiler for generic circuits with gate dependency by setting `dependency=True`."
   ]
  },
  {
   "cell_type": "code",
   "execution_count": 8,
   "metadata": {},
   "outputs": [
    {
     "name": "stdout",
     "output_type": "stream",
     "text": [
      "list_gate_two_qubit:  [(0, 1), (0, 1), (2, 3), (2, 3), (1, 2), (1, 2), (4, 5), (4, 5), (3, 4), (3, 4), (6, 7), (6, 7), (5, 6), (5, 6), (8, 9), (8, 9), (7, 8), (7, 8), (10, 11), (10, 11), (9, 10), (9, 10), (12, 13), (12, 13), (11, 12), (11, 12), (14, 15), (14, 15), (13, 14), (13, 14), (16, 17), (16, 17), (15, 16), (15, 16), (18, 19), (18, 19), (17, 18), (17, 18), (20, 21), (20, 21), (19, 20), (19, 20), (22, 23), (22, 23), (21, 22), (21, 22), (24, 25), (24, 25), (23, 24), (23, 24)]\n",
      "[INFO] Enola: Start Solving\n",
      "[INFO] Enola: Run scheduling\n",
      "[INFO] Enola: Time for scheduling: 2.6941299438476562e-05s\n",
      "10\n",
      "[INFO] Enola: Time for placement: 6.9141387939453125e-06s\n",
      "[INFO] Enola: Solve for Rydberg stage 2/4.\n",
      "[INFO] Enola: Solve for Rydberg stage 3/4.\n",
      "[INFO] Enola: Solve for Rydberg stage 4/4.\n",
      "[INFO] Enola: Solve for Rydberg stage 5/4.\n",
      "[INFO] Enola: Time for routing: 0.0014810562133789062s\n",
      "[INFO] Enola: Toal Time: 0.006429910659790039s\n"
     ]
    }
   ],
   "source": [
    "generic_circuit_name = \"qasm_exp/ising_n26.qasm\"\n",
    "# generic circuits with dependencies\n",
    "# extract two-qubit gates from the circuit\n",
    "list_gate_two_qubit = []\n",
    "with open(generic_circuit_name, 'r') as f:\n",
    "    qasm_str = f.read()\n",
    "    circuit = qiskit.QuantumCircuit.from_qasm_str(qasm_str)\n",
    "    cz_circuit = qiskit.transpile(circuit, basis_gates=[\"cz\", \"id\", \"u2\", \"u1\", \"u3\"])\n",
    "    instruction = cz_circuit.data\n",
    "    for ins in instruction:\n",
    "        if ins.operation.num_qubits == 2:\n",
    "            list_gate_two_qubit.append((ins.qubits[0]._index, ins.qubits[1]._index))\n",
    "print(\"list_gate_two_qubit: \", list_gate_two_qubit)\n",
    "\n",
    "# use the scalable compiler with dependency = True\n",
    "scalable_generic_compiler = Enola(\n",
    "        name=\"ising_n26\",\n",
    "        dir='./results/',\n",
    "        trivial_layout = True,\n",
    "        dependency=True,\n",
    "        routing_strategy=\"maximalis\",\n",
    "        reverse_to_initial=True,\n",
    "        use_window=True)\n",
    "\n",
    "# set architecture\n",
    "scalable_generic_compiler.setArchitecture([10, 10, 10, 10])\n",
    "\n",
    "# set program\n",
    "scalable_generic_compiler.setProgram(list_gate_two_qubit)\n",
    "\n",
    "# solve the problem\n",
    "program_list_generic = scalable_generic_compiler.solve(save_file=True)"
   ]
  },
  {
   "cell_type": "markdown",
   "metadata": {},
   "source": [
    "### Circuit Fidelity Simulation\n",
    "$f=(f_{1})^{g_1} \\cdot \\underbrace{(f_{2})^{g_2} \\cdot (f_\\text{exc})^{|Q| S - 2g_2}}_\\text{two-qubit gate} \\cdot \\underbrace{(f_\\text{trans})^{N_\\text{trans}}}_\\text{atom transfer} \\cdot \\underbrace{\\Pi_{q\\in Q}\\ (1-T_q/T_2)}_\\text{decoherence}$\n",
    "- $f_{1}$: Single-qubit gate fidelity \n",
    "- $f_{2}$: Two-qubit gate fidelity \n",
    "- $f_\\text{exc}$: Idle qubit excitation fidelity \n",
    "- $f_\\text{trans}$: Atom transfer fidelity \n",
    "- $g_1$: Number of single-qubit gates\n",
    "- $g_2$: Number of two-qubit gates\n",
    "- $Q$: Set of program qubits\n",
    "- $S$: Number of stage\n",
    "- $N_\\text{trans}$: Number of atom transfers\n",
    "- $T_q$: Idle time for qubit $q$\n",
    "\n",
    "***Run simulator***: \n",
    "Run `python3 simulator.py <P> --arch_param <A> --fidelity_param <F>` where `<P>` is the filename to the program instruction lists, `<A>` is the json file constaining architecture parameters, `<F>` is the json file containing fidelity parameters.\n",
    "\n",
    "Default: \n",
    "- `fidelity_param` is \"hardware_spec/compute_store_arch_fidelity.json\"\n",
    "    - R_B: 6um\n",
    "    - AOD_SEP: 2um\n",
    "    - RYD_SEP: 15um\n",
    "    - SITE_SLMS: 2um\n",
    "    - SLM_SEP: 2um\n",
    "    - SITE_WIDTH: 4um\n",
    "    - T_RYDBERG: 0.36us\n",
    "    - T_ACTIVATE: 15us\n",
    "\n",
    "- `arch_param` is \"hardware_spec/compute_store_arch.json\"\n",
    "    - 2QG: 0.995\n",
    "    - 1QG: 0.9997\n",
    "    - AT: 0.999\n",
    "    - T: 1.5e6us\n",
    "\n",
    "The program will save the json file consisting of fidelity anaylsis to the folder `results/fidelity/`"
   ]
  },
  {
   "cell_type": "code",
   "execution_count": 11,
   "metadata": {},
   "outputs": [],
   "source": [
    "# example command\n",
    "!python3 simulator.py results/code/qaoa_code.json"
   ]
  },
  {
   "cell_type": "markdown",
   "metadata": {},
   "source": [
    "### Animation Generation\n",
    "\n",
    "***Prerequisite*** \n",
    "\n",
    "Install [ffmpeg](https://www.ffmpeg.org)\n",
    "\n",
    "To generate animation, initialize `Animator` with the full code file. For graph-induced circuit, we can show a graph located next to the architecture to indicate the circuit execution condition by setting `show_graph=True` and specifying `edges`.\n",
    "\n"
   ]
  },
  {
   "cell_type": "code",
   "execution_count": 10,
   "metadata": {},
   "outputs": [
    {
     "data": {
      "text/plain": [
       "<animation.Animator at 0x136c08d90>"
      ]
     },
     "execution_count": 10,
     "metadata": {},
     "output_type": "execute_result"
    }
   ],
   "source": [
    "# import animator\n",
    "from animation import Animator\n",
    "\n",
    "# generate animation for qaoa circuit\n",
    "Animator(\n",
    "        \"results/code/qaoa_code_full.json\",\n",
    "        show_graph=True,\n",
    "        edges=graph_edge_list,\n",
    "        dir='./results/animations/'\n",
    "    )\n",
    "\n",
    "# generate animation for ising circuit\n",
    "Animator(\n",
    "        \"results/code/ising_n26_code_full.json\",\n",
    "        show_graph=False,\n",
    "        edges=[],\n",
    "        dir='./results/animations/'\n",
    "    )"
   ]
  }
 ],
 "metadata": {
  "kernelspec": {
   "display_name": "Python 3",
   "language": "python",
   "name": "python3"
  },
  "language_info": {
   "codemirror_mode": {
    "name": "ipython",
    "version": 3
   },
   "file_extension": ".py",
   "mimetype": "text/x-python",
   "name": "python",
   "nbconvert_exporter": "python",
   "pygments_lexer": "ipython3",
   "version": "3.10.12"
  }
 },
 "nbformat": 4,
 "nbformat_minor": 2
}
