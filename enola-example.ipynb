{
 "cells": [
  {
   "cell_type": "markdown",
   "metadata": {},
   "source": [
    "### Example: Using Enola for Dynamically Field-Programmable Qubit Arrays Based on Neutral Atoms\n",
    "\n",
    "This notebook demonstrates how to use our compiler, Enola, to compile and execute quantum programs on a single-zone neutral atom architecture. The architecture is based on dynamically field-programmable qubit arrays, where qubits can be reconfigured during circuit execution.\n",
    "\n",
    "***Prerequisite***\n",
    "Download Enola from [Github](https://github.com/UCLA-VAST/Enola)"
   ]
  },
  {
   "cell_type": "code",
   "execution_count": null,
   "metadata": {},
   "outputs": [],
   "source": [
    "!git clone https://github.com/UCLA-VAST/Enola.git\n",
    "!pip3 install networkx\n",
    "!pip3 install matplotlib\n",
    "!pip3 install 'qiskit>=1'\n",
    "!pip3 install ffmpeg-python"
   ]
  },
  {
   "cell_type": "markdown",
   "metadata": {},
   "source": [
    "***Import***"
   ]
  },
  {
   "cell_type": "code",
   "execution_count": 24,
   "metadata": {},
   "outputs": [],
   "source": [
    "from enola.enola import Enola\n",
    "import qiskit"
   ]
  },
  {
   "cell_type": "markdown",
   "metadata": {},
   "source": [
    "### Compile a Circuit\n",
    "\n",
    "***Step 1: Compiler intialization***\n",
    "\n",
    "- Default compiler: Use edge coloring algorithm for commutable gate scheduling, simulated annealing with dynamic placement, maximal independent set with sorting heuristic for routing strategy, no restriction for vectex number in solving MIS. We set `full_code=True` for animation code generation.   \n",
    "\n",
    "- Scalable compiler: Use trivial layout (`trivial_layout=True`), return to initial mapping after each Rydberg stage (`reverse_to_initial=True`), using maximal independent set for routing (`routing_strategy='maximalis'`), and limit the number of vertices to 1000 in solving MIS (`use_window=True`)"
   ]
  },
  {
   "cell_type": "code",
   "execution_count": 20,
   "metadata": {},
   "outputs": [],
   "source": [
    "commutable_circuit_name = 'qaoa'\n",
    "default_compiler = Enola(\n",
    "        name=commutable_circuit_name,\n",
    "        dir='./results/',\n",
    "        full_code=True)\n",
    "\n",
    "scalable_compiler = Enola(\n",
    "        name=commutable_circuit_name,\n",
    "        dir='./results/',\n",
    "        trivial_layout = True,\n",
    "        routing_strategy=\"maximalis\",\n",
    "        reverse_to_initial=True,\n",
    "        use_window=True,\n",
    "        full_code=True)"
   ]
  },
  {
   "cell_type": "markdown",
   "metadata": {},
   "source": [
    "***Step 2: Set Architecture***\n",
    "\n",
    "Set architecture dimension by the method `setArchitecture(bounds: Sequence[int])`, where `bounds = [slm_num_row, slm_num_col, aod_num_row, aod_num_col]` specifies the number of columns and rows in the SLM and AOD arrays. Note that 1. the SLM site number, i.e., `slm_num_row`*`slm_num_col`, should be greater than or equal to the number of program qubits in the circuit, and 2. the size of AOD array should not be smaller than the size of SLM arrays."
   ]
  },
  {
   "cell_type": "code",
   "execution_count": null,
   "metadata": {},
   "outputs": [],
   "source": [
    "# an example of setting an architecture with an SLM of 10 columns and rows, and an AOD with 10 columns and rows\n",
    "default_compiler.setArchitecture([10, 10, 10, 10])"
   ]
  },
  {
   "cell_type": "markdown",
   "metadata": {},
   "source": [
    "***Step 3: Set Program***\n",
    "\n",
    "Set quantum program by the method `setProgram(program: Sequence[Sequence[int]])`, where `program` is a list of two-qubit gates in the circuit."
   ]
  },
  {
   "cell_type": "code",
   "execution_count": null,
   "metadata": {},
   "outputs": [],
   "source": [
    "# an example of setting the QAOA circuit\n",
    "# circuits with all commutable gates\n",
    "commutable_circuit_name = \"qaoa\"\n",
    "graph_edge_list = [[0, 1], [0, 2], [0, 4], [1, 3], [1, 5], [2, 4], [2, 3], \n",
    "                   [3, 5], [4, 5]]\n",
    "\n",
    "default_compiler.setProgram(graph_edge_list)"
   ]
  },
  {
   "cell_type": "markdown",
   "metadata": {},
   "source": [
    "***Step 4: Compile the Circuit***\n",
    "\n",
    "Compile the circuit by method `solve()`. \n",
    "- `save_file` specifies whether to save 1. the output program list and 2. the detailed code (if `full_code=True` when initializing the compiler) for animation generation to json files in the folder `results/code`, and 3. the runtime analysis to a json file to the folder `results/time`."
   ]
  },
  {
   "cell_type": "code",
   "execution_count": null,
   "metadata": {},
   "outputs": [],
   "source": [
    "program_list_qaoa = default_compiler.solve(save_file=True)"
   ]
  },
  {
   "cell_type": "markdown",
   "metadata": {},
   "source": [
    "#### The other example for compiling a generic circuit\n",
    "\n",
    "Initialize a compiler for generic circuits with gate dependency by setting `dependency=True`."
   ]
  },
  {
   "cell_type": "code",
   "execution_count": null,
   "metadata": {},
   "outputs": [],
   "source": [
    "generic_circuit_name = \"qasm_exp/ising_n26.qasm\"\n",
    "# generic circuits with dependencies\n",
    "# extract two-qubit gates from the circuit\n",
    "list_gate_two_qubit = []\n",
    "with open(generic_circuit_name, 'r') as f:\n",
    "    qasm_str = f.read()\n",
    "    circuit = qiskit.QuantumCircuit.from_qasm_str(qasm_str)\n",
    "    cz_circuit = qiskit.transpile(circuit, basis_gates=[\"cz\", \"id\", \"u2\", \"u1\", \"u3\"])\n",
    "    instruction = cz_circuit.data\n",
    "    for ins in instruction:\n",
    "        if ins.operation.num_qubits == 2:\n",
    "            list_gate_two_qubit.append((ins.qubits[0]._index, ins.qubits[1]._index))\n",
    "print(\"list_gate_two_qubit: \", list_gate_two_qubit)\n",
    "\n",
    "# use the scalable compiler with dependency = True\n",
    "scalable_generic_compiler = Enola(\n",
    "        name=\"ising_n26\",\n",
    "        dir='./results/',\n",
    "        trivial_layout = True,\n",
    "        dependency=True,\n",
    "        routing_strategy=\"maximalis\",\n",
    "        reverse_to_initial=True,\n",
    "        use_window=True)\n",
    "\n",
    "# set architecture\n",
    "scalable_generic_compiler.setArchitecture([10, 10, 10, 10])\n",
    "\n",
    "# set program\n",
    "scalable_generic_compiler.setArchitecture(list_gate_two_qubit)\n",
    "\n",
    "# solve the problem\n",
    "program_list_generic = scalable_generic_compiler.solve(save_file=True)"
   ]
  },
  {
   "cell_type": "markdown",
   "metadata": {},
   "source": [
    "### Circuit Fidelity Simulation\n",
    "$f=(f_{1})^{g_1} \\cdot \\underbrace{(f_{2})^{g_2} \\cdot (f_\\text{exc})^{|Q| S - 2g_2}}_\\text{two-qubit gate} \\cdot \\underbrace{(f_\\text{trans})^{N_\\text{trans}}}_\\text{atom transfer} \\cdot \\underbrace{\\Pi_{q\\in Q}\\ (1-T_q/T_2)}_\\text{decoherence}$\n",
    "- $f_{1}$: Single-qubit gate fidelity \n",
    "- $f_{2}$: Two-qubit gate fidelity \n",
    "- $f_\\text{exc}$: Idle qubit excitation fidelity \n",
    "- $f_\\text{trans}$: Atom transfer fidelity \n",
    "- $g_1$: Number of single-qubit gates\n",
    "- $g_2$: Number of two-qubit gates\n",
    "- $Q$: Set of program qubits\n",
    "- $S$: Number of stage\n",
    "- $N_\\text{trans}$: Number of atom transfers\n",
    "- $T_q$: Idle time for qubit $q$\n",
    "\n",
    "***Run simulator***: \n",
    "Run `python3 simulator.py <P> --arch_param <A> --fidelity_param <F>` where `<P>` is the filename to the program instruction lists, `<A>` is the json file constaining architecture parameters, `<F>` is the json file containing fidelity parameters.\n",
    "\n",
    "Default: \n",
    "- `fidelity_param` is \"hardware_spec/compute_store_arch_fidelity.json\"\n",
    "    - R_B: 6um\n",
    "    - AOD_SEP: 2um\n",
    "    - RYD_SEP: 15um\n",
    "    - SITE_SLMS: 2um\n",
    "    - SLM_SEP: 2um\n",
    "    - SITE_WIDTH: 4um\n",
    "    - T_RYDBERG: 0.36us\n",
    "    - T_ACTIVATE: 15us\n",
    "\n",
    "- `arch_param` is \"hardware_spec/compute_store_arch.json\"\n",
    "    - 2QG: 0.995,\n",
    "    - 1QG: 0.9997,\n",
    "    - AT: 0.999,\n",
    "    - T: 1.5e6us\n",
    "\n",
    "The program will save the json file consisting of fidelity anaylsis to the folder `results/fidelity/`"
   ]
  },
  {
   "cell_type": "code",
   "execution_count": null,
   "metadata": {},
   "outputs": [],
   "source": [
    "# example command\n",
    "!python3 simulator.py results/code/qaoa_code.json"
   ]
  },
  {
   "cell_type": "markdown",
   "metadata": {},
   "source": [
    "### Animation Generation\n",
    "\n",
    "To generate animation, run `python animation.py <F>` where `<F>` is the full code file. By default, we assume the input is a graph-induced circuit so there is a graph located next to the architecture to indicate the circuit execution condition. To remove the graph, add the argument `--noGraph`."
   ]
  },
  {
   "cell_type": "code",
   "execution_count": null,
   "metadata": {},
   "outputs": [],
   "source": [
    "# example command\n",
    "!python3 animation.py results/code/qaoa_code_full.json\n",
    "!python3 animation.py results/code/ising_n26_code_full.json --noGraph"
   ]
  }
 ],
 "metadata": {
  "kernelspec": {
   "display_name": "Python 3",
   "language": "python",
   "name": "python3"
  },
  "language_info": {
   "codemirror_mode": {
    "name": "ipython",
    "version": 3
   },
   "file_extension": ".py",
   "mimetype": "text/x-python",
   "name": "python",
   "nbconvert_exporter": "python",
   "pygments_lexer": "ipython3",
   "version": "3.9.6"
  }
 },
 "nbformat": 4,
 "nbformat_minor": 2
}
